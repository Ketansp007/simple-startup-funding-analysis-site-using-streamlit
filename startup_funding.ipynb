{
 "cells": [
  {
   "cell_type": "code",
   "execution_count": 188,
   "id": "42e628f9-3232-41bf-8b90-f5a8321707a8",
   "metadata": {},
   "outputs": [],
   "source": [
    "import pandas as pd\n",
    "import numpy as np"
   ]
  },
  {
   "cell_type": "code",
   "execution_count": 189,
   "id": "16632a3a-5ec6-4a99-8687-9531ad960137",
   "metadata": {},
   "outputs": [],
   "source": [
    "df = pd.read_csv('startup_funding.csv')"
   ]
  },
  {
   "cell_type": "code",
   "execution_count": 190,
   "id": "d361c2a6-dc72-412a-acb2-c96f7e231bdb",
   "metadata": {},
   "outputs": [
    {
     "name": "stdout",
     "output_type": "stream",
     "text": [
      "<class 'pandas.core.frame.DataFrame'>\n",
      "RangeIndex: 3044 entries, 0 to 3043\n",
      "Data columns (total 10 columns):\n",
      " #   Column             Non-Null Count  Dtype \n",
      "---  ------             --------------  ----- \n",
      " 0   Sr No              3044 non-null   int64 \n",
      " 1   Date dd/mm/yyyy    3044 non-null   object\n",
      " 2   Startup Name       3044 non-null   object\n",
      " 3   Industry Vertical  2873 non-null   object\n",
      " 4   SubVertical        2108 non-null   object\n",
      " 5   City  Location     2864 non-null   object\n",
      " 6   Investors Name     3020 non-null   object\n",
      " 7   InvestmentnType    3040 non-null   object\n",
      " 8   Amount in USD      2084 non-null   object\n",
      " 9   Remarks            419 non-null    object\n",
      "dtypes: int64(1), object(9)\n",
      "memory usage: 237.9+ KB\n"
     ]
    }
   ],
   "source": [
    "df['Startup Name'].unique().tolist()\n",
    "df.info()"
   ]
  },
  {
   "cell_type": "code",
   "execution_count": 191,
   "id": "b7d78ee0-9b26-4406-80be-9e5db8e544a9",
   "metadata": {},
   "outputs": [],
   "source": [
    "df = df.set_index('Sr No')"
   ]
  },
  {
   "cell_type": "code",
   "execution_count": 192,
   "id": "22090d7e-18bf-453b-a8f7-46e21d16c769",
   "metadata": {},
   "outputs": [],
   "source": [
    "df = df.drop('Remarks',axis=1)"
   ]
  },
  {
   "cell_type": "code",
   "execution_count": 193,
   "id": "d0c91344-805d-4178-b7c0-f012bf97a552",
   "metadata": {},
   "outputs": [],
   "source": [
    "df = df.rename(columns = {'City  Location':'city',\n",
    "           'InvestmentnType':'round',\n",
    "           'Date dd/mm/yyyy':'date',\n",
    "           'Industry Vertical':'verticle',\n",
    "          ' SubVertical':'subvertical',\n",
    "          'Investors Name':'investors',\n",
    "          'Amount in USD':'amount',\n",
    "            'Startup Name':'startup'})"
   ]
  },
  {
   "cell_type": "code",
   "execution_count": 194,
   "id": "549bc59b-e94b-4b8a-baf9-7d75acd68577",
   "metadata": {},
   "outputs": [],
   "source": [
    "df['amount'] = df.amount.str.replace(',','').str.replace('Undisclosed','0').str.replace('unknown','0').str.replace('undisclosed','0').str.replace('+','0').fillna('0')"
   ]
  },
  {
   "cell_type": "code",
   "execution_count": 195,
   "id": "eb19de14-dd3f-44ed-a9aa-1907ea3be2e6",
   "metadata": {},
   "outputs": [],
   "source": [
    "df = df[df.amount.str.isdigit()]"
   ]
  },
  {
   "cell_type": "code",
   "execution_count": 196,
   "id": "031a1f50-b018-4f96-9d76-c7a86c845471",
   "metadata": {},
   "outputs": [],
   "source": [
    "df['amount'] = df.amount.astype('float64')"
   ]
  },
  {
   "cell_type": "code",
   "execution_count": 197,
   "id": "1a836a28-9db1-4762-9934-ca8ba63ee267",
   "metadata": {},
   "outputs": [],
   "source": [
    "def dollar_to_CR_INR(dollar):\n",
    "    return round((int(dollar) * 83)/10000000,2)"
   ]
  },
  {
   "cell_type": "code",
   "execution_count": 198,
   "id": "fe53d0cf-b1be-461f-ad6a-b6c394710c0f",
   "metadata": {},
   "outputs": [],
   "source": [
    "df['amount'] = df['amount'].apply(dollar_to_CR_INR)"
   ]
  },
  {
   "cell_type": "code",
   "execution_count": 199,
   "id": "c491bf75-87d9-4583-831c-ae7230c8011b",
   "metadata": {},
   "outputs": [],
   "source": [
    "# df.date = pd.to_datetime(df['date'],errors='coerce')"
   ]
  },
  {
   "cell_type": "code",
   "execution_count": 200,
   "id": "c0423c9f-0515-4666-9fec-a14c1d40cd83",
   "metadata": {},
   "outputs": [
    {
     "data": {
      "text/html": [
       "<div>\n",
       "<style scoped>\n",
       "    .dataframe tbody tr th:only-of-type {\n",
       "        vertical-align: middle;\n",
       "    }\n",
       "\n",
       "    .dataframe tbody tr th {\n",
       "        vertical-align: top;\n",
       "    }\n",
       "\n",
       "    .dataframe thead th {\n",
       "        text-align: right;\n",
       "    }\n",
       "</style>\n",
       "<table border=\"1\" class=\"dataframe\">\n",
       "  <thead>\n",
       "    <tr style=\"text-align: right;\">\n",
       "      <th></th>\n",
       "      <th>date</th>\n",
       "      <th>startup</th>\n",
       "      <th>verticle</th>\n",
       "      <th>SubVertical</th>\n",
       "      <th>city</th>\n",
       "      <th>investors</th>\n",
       "      <th>round</th>\n",
       "      <th>amount</th>\n",
       "    </tr>\n",
       "    <tr>\n",
       "      <th>Sr No</th>\n",
       "      <th></th>\n",
       "      <th></th>\n",
       "      <th></th>\n",
       "      <th></th>\n",
       "      <th></th>\n",
       "      <th></th>\n",
       "      <th></th>\n",
       "      <th></th>\n",
       "    </tr>\n",
       "  </thead>\n",
       "  <tbody>\n",
       "    <tr>\n",
       "      <th>1</th>\n",
       "      <td>09/01/2020</td>\n",
       "      <td>BYJU’S</td>\n",
       "      <td>E-Tech</td>\n",
       "      <td>E-learning</td>\n",
       "      <td>Bengaluru</td>\n",
       "      <td>Tiger Global Management</td>\n",
       "      <td>Private Equity Round</td>\n",
       "      <td>1660.00</td>\n",
       "    </tr>\n",
       "    <tr>\n",
       "      <th>2</th>\n",
       "      <td>13/01/2020</td>\n",
       "      <td>Shuttl</td>\n",
       "      <td>Transportation</td>\n",
       "      <td>App based shuttle service</td>\n",
       "      <td>Gurgaon</td>\n",
       "      <td>Susquehanna Growth Equity</td>\n",
       "      <td>Series C</td>\n",
       "      <td>66.80</td>\n",
       "    </tr>\n",
       "    <tr>\n",
       "      <th>3</th>\n",
       "      <td>09/01/2020</td>\n",
       "      <td>Mamaearth</td>\n",
       "      <td>E-commerce</td>\n",
       "      <td>Retailer of baby and toddler products</td>\n",
       "      <td>Bengaluru</td>\n",
       "      <td>Sequoia Capital India</td>\n",
       "      <td>Series B</td>\n",
       "      <td>152.38</td>\n",
       "    </tr>\n",
       "    <tr>\n",
       "      <th>4</th>\n",
       "      <td>02/01/2020</td>\n",
       "      <td>https://www.wealthbucket.in/</td>\n",
       "      <td>FinTech</td>\n",
       "      <td>Online Investment</td>\n",
       "      <td>New Delhi</td>\n",
       "      <td>Vinod Khatumal</td>\n",
       "      <td>Pre-series A</td>\n",
       "      <td>24.90</td>\n",
       "    </tr>\n",
       "    <tr>\n",
       "      <th>5</th>\n",
       "      <td>02/01/2020</td>\n",
       "      <td>Fashor</td>\n",
       "      <td>Fashion and Apparel</td>\n",
       "      <td>Embroiled Clothes For Women</td>\n",
       "      <td>Mumbai</td>\n",
       "      <td>Sprout Venture Partners</td>\n",
       "      <td>Seed Round</td>\n",
       "      <td>14.94</td>\n",
       "    </tr>\n",
       "    <tr>\n",
       "      <th>...</th>\n",
       "      <td>...</td>\n",
       "      <td>...</td>\n",
       "      <td>...</td>\n",
       "      <td>...</td>\n",
       "      <td>...</td>\n",
       "      <td>...</td>\n",
       "      <td>...</td>\n",
       "      <td>...</td>\n",
       "    </tr>\n",
       "    <tr>\n",
       "      <th>3040</th>\n",
       "      <td>29/01/2015</td>\n",
       "      <td>Printvenue</td>\n",
       "      <td>NaN</td>\n",
       "      <td>NaN</td>\n",
       "      <td>NaN</td>\n",
       "      <td>Asia Pacific Internet Group</td>\n",
       "      <td>Private Equity</td>\n",
       "      <td>37.35</td>\n",
       "    </tr>\n",
       "    <tr>\n",
       "      <th>3041</th>\n",
       "      <td>29/01/2015</td>\n",
       "      <td>Graphene</td>\n",
       "      <td>NaN</td>\n",
       "      <td>NaN</td>\n",
       "      <td>NaN</td>\n",
       "      <td>KARSEMVEN Fund</td>\n",
       "      <td>Private Equity</td>\n",
       "      <td>6.85</td>\n",
       "    </tr>\n",
       "    <tr>\n",
       "      <th>3042</th>\n",
       "      <td>30/01/2015</td>\n",
       "      <td>Mad Street Den</td>\n",
       "      <td>NaN</td>\n",
       "      <td>NaN</td>\n",
       "      <td>NaN</td>\n",
       "      <td>Exfinity Fund, GrowX Ventures.</td>\n",
       "      <td>Private Equity</td>\n",
       "      <td>12.45</td>\n",
       "    </tr>\n",
       "    <tr>\n",
       "      <th>3043</th>\n",
       "      <td>30/01/2015</td>\n",
       "      <td>Simplotel</td>\n",
       "      <td>NaN</td>\n",
       "      <td>NaN</td>\n",
       "      <td>NaN</td>\n",
       "      <td>MakeMyTrip</td>\n",
       "      <td>Private Equity</td>\n",
       "      <td>0.00</td>\n",
       "    </tr>\n",
       "    <tr>\n",
       "      <th>3044</th>\n",
       "      <td>31/01/2015</td>\n",
       "      <td>couponmachine.in</td>\n",
       "      <td>NaN</td>\n",
       "      <td>NaN</td>\n",
       "      <td>NaN</td>\n",
       "      <td>UK based Group of Angel Investors</td>\n",
       "      <td>Seed Funding</td>\n",
       "      <td>1.16</td>\n",
       "    </tr>\n",
       "  </tbody>\n",
       "</table>\n",
       "<p>3030 rows × 8 columns</p>\n",
       "</div>"
      ],
      "text/plain": [
       "             date                       startup             verticle  \\\n",
       "Sr No                                                                  \n",
       "1      09/01/2020                        BYJU’S               E-Tech   \n",
       "2      13/01/2020                        Shuttl       Transportation   \n",
       "3      09/01/2020                     Mamaearth           E-commerce   \n",
       "4      02/01/2020  https://www.wealthbucket.in/              FinTech   \n",
       "5      02/01/2020                        Fashor  Fashion and Apparel   \n",
       "...           ...                           ...                  ...   \n",
       "3040   29/01/2015                    Printvenue                  NaN   \n",
       "3041   29/01/2015                      Graphene                  NaN   \n",
       "3042   30/01/2015                Mad Street Den                  NaN   \n",
       "3043   30/01/2015                     Simplotel                  NaN   \n",
       "3044   31/01/2015              couponmachine.in                  NaN   \n",
       "\n",
       "                                 SubVertical       city  \\\n",
       "Sr No                                                     \n",
       "1                                 E-learning  Bengaluru   \n",
       "2                  App based shuttle service    Gurgaon   \n",
       "3      Retailer of baby and toddler products  Bengaluru   \n",
       "4                          Online Investment  New Delhi   \n",
       "5                Embroiled Clothes For Women     Mumbai   \n",
       "...                                      ...        ...   \n",
       "3040                                     NaN        NaN   \n",
       "3041                                     NaN        NaN   \n",
       "3042                                     NaN        NaN   \n",
       "3043                                     NaN        NaN   \n",
       "3044                                     NaN        NaN   \n",
       "\n",
       "                               investors                 round   amount  \n",
       "Sr No                                                                    \n",
       "1                Tiger Global Management  Private Equity Round  1660.00  \n",
       "2              Susquehanna Growth Equity              Series C    66.80  \n",
       "3                  Sequoia Capital India              Series B   152.38  \n",
       "4                         Vinod Khatumal          Pre-series A    24.90  \n",
       "5                Sprout Venture Partners            Seed Round    14.94  \n",
       "...                                  ...                   ...      ...  \n",
       "3040         Asia Pacific Internet Group        Private Equity    37.35  \n",
       "3041                      KARSEMVEN Fund        Private Equity     6.85  \n",
       "3042      Exfinity Fund, GrowX Ventures.        Private Equity    12.45  \n",
       "3043                          MakeMyTrip        Private Equity     0.00  \n",
       "3044   UK based Group of Angel Investors          Seed Funding     1.16  \n",
       "\n",
       "[3030 rows x 8 columns]"
      ]
     },
     "execution_count": 200,
     "metadata": {},
     "output_type": "execute_result"
    }
   ],
   "source": [
    "df"
   ]
  },
  {
   "cell_type": "code",
   "execution_count": 201,
   "id": "d20d8700-e447-4e75-89f4-c1444bdcb8ac",
   "metadata": {},
   "outputs": [],
   "source": [
    "df.date = df.date.str.replace('05/072018','05/07/2018')\n",
    "df.date = pd.to_datetime(df['date'],format='mixed',errors = 'coerce')"
   ]
  },
  {
   "cell_type": "code",
   "execution_count": 202,
   "id": "a25be263-f52a-44c5-a908-636153129c41",
   "metadata": {},
   "outputs": [
    {
     "name": "stdout",
     "output_type": "stream",
     "text": [
      "<class 'pandas.core.frame.DataFrame'>\n",
      "Index: 3030 entries, 1 to 3044\n",
      "Data columns (total 8 columns):\n",
      " #   Column       Non-Null Count  Dtype         \n",
      "---  ------       --------------  -----         \n",
      " 0   date         3028 non-null   datetime64[ns]\n",
      " 1   startup      3030 non-null   object        \n",
      " 2   verticle     2859 non-null   object        \n",
      " 3   SubVertical  2105 non-null   object        \n",
      " 4   city         2850 non-null   object        \n",
      " 5   investors    3006 non-null   object        \n",
      " 6   round        3028 non-null   object        \n",
      " 7   amount       3030 non-null   float64       \n",
      "dtypes: datetime64[ns](1), float64(1), object(6)\n",
      "memory usage: 213.0+ KB\n"
     ]
    }
   ],
   "source": [
    "df.info()"
   ]
  },
  {
   "cell_type": "code",
   "execution_count": 203,
   "id": "87bd007a-ab61-4a65-83b7-ba3be5610d75",
   "metadata": {},
   "outputs": [],
   "source": [
    "df = df.dropna(subset = ['date','verticle','city','investors','round','amount'])"
   ]
  },
  {
   "cell_type": "code",
   "execution_count": 204,
   "id": "242c286e-d215-4d02-a55b-3f1d2ccc692b",
   "metadata": {},
   "outputs": [
    {
     "name": "stdout",
     "output_type": "stream",
     "text": [
      "<class 'pandas.core.frame.DataFrame'>\n",
      "Index: 2823 entries, 1 to 2873\n",
      "Data columns (total 8 columns):\n",
      " #   Column       Non-Null Count  Dtype         \n",
      "---  ------       --------------  -----         \n",
      " 0   date         2823 non-null   datetime64[ns]\n",
      " 1   startup      2823 non-null   object        \n",
      " 2   verticle     2823 non-null   object        \n",
      " 3   SubVertical  2079 non-null   object        \n",
      " 4   city         2823 non-null   object        \n",
      " 5   investors    2823 non-null   object        \n",
      " 6   round        2823 non-null   object        \n",
      " 7   amount       2823 non-null   float64       \n",
      "dtypes: datetime64[ns](1), float64(1), object(6)\n",
      "memory usage: 198.5+ KB\n"
     ]
    }
   ],
   "source": [
    "df.info()"
   ]
  },
  {
   "cell_type": "code",
   "execution_count": 205,
   "id": "f4595f17-912e-45e1-b553-4412bb076a34",
   "metadata": {},
   "outputs": [
    {
     "name": "stderr",
     "output_type": "stream",
     "text": [
      "C:\\Users\\ketan\\AppData\\Local\\Temp\\ipykernel_12656\\1259859721.py:1: SettingWithCopyWarning: \n",
      "A value is trying to be set on a copy of a slice from a DataFrame.\n",
      "Try using .loc[row_indexer,col_indexer] = value instead\n",
      "\n",
      "See the caveats in the documentation: https://pandas.pydata.org/pandas-docs/stable/user_guide/indexing.html#returning-a-view-versus-a-copy\n",
      "  df.SubVertical = df.SubVertical.fillna('undefined')\n"
     ]
    }
   ],
   "source": [
    "df.SubVertical = df.SubVertical.fillna('undefined')"
   ]
  },
  {
   "cell_type": "code",
   "execution_count": 207,
   "id": "378e6679-43f5-4d10-84d3-1777b5526209",
   "metadata": {},
   "outputs": [
    {
     "name": "stdout",
     "output_type": "stream",
     "text": [
      "<class 'pandas.core.frame.DataFrame'>\n",
      "Index: 2823 entries, 1 to 2873\n",
      "Data columns (total 8 columns):\n",
      " #   Column       Non-Null Count  Dtype         \n",
      "---  ------       --------------  -----         \n",
      " 0   date         2823 non-null   datetime64[ns]\n",
      " 1   startup      2823 non-null   object        \n",
      " 2   verticle     2823 non-null   object        \n",
      " 3   SubVertical  2823 non-null   object        \n",
      " 4   city         2823 non-null   object        \n",
      " 5   investors    2823 non-null   object        \n",
      " 6   round        2823 non-null   object        \n",
      " 7   amount       2823 non-null   float64       \n",
      "dtypes: datetime64[ns](1), float64(1), object(6)\n",
      "memory usage: 198.5+ KB\n"
     ]
    }
   ],
   "source": [
    "df.info()"
   ]
  },
  {
   "cell_type": "code",
   "execution_count": 208,
   "id": "14b9fe65-5658-4566-b404-15f1364ead0d",
   "metadata": {},
   "outputs": [],
   "source": [
    "df.to_csv('startup_funding_clean.csv')"
   ]
  },
  {
   "cell_type": "code",
   "execution_count": null,
   "id": "3ac1eecc-14ea-4208-b6cc-e55048ebbc33",
   "metadata": {},
   "outputs": [],
   "source": []
  }
 ],
 "metadata": {
  "kernelspec": {
   "display_name": "Python 3 (ipykernel)",
   "language": "python",
   "name": "python3"
  },
  "language_info": {
   "codemirror_mode": {
    "name": "ipython",
    "version": 3
   },
   "file_extension": ".py",
   "mimetype": "text/x-python",
   "name": "python",
   "nbconvert_exporter": "python",
   "pygments_lexer": "ipython3",
   "version": "3.11.0"
  }
 },
 "nbformat": 4,
 "nbformat_minor": 5
}
